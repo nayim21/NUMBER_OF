{
 "cells": [
  {
   "cell_type": "code",
   "execution_count": 3,
   "id": "20f01569",
   "metadata": {},
   "outputs": [
    {
     "name": "stdout",
     "output_type": "stream",
     "text": [
      "['Cheongju,', 'South', 'Korea', 'â€“', 'It', 'was', 'about', 'halfway', 'through', 'the', 'hit', 'Netflix', 'series', 'Squid', 'Game', 'that', 'Ye-eun', 'Lee', 'had', 'had', 'enough.', 'Disgusted', 'by', 'the', 'showâ€™s', 'portrayal', 'of', 'women,', 'which', 'she', 'considers', 'to', 'be', 'misogynistic,', 'she', 'turned', 'it', 'off', 'and', 'refused', 'to', 'watch', 'the', 'rest.', 'Jane', 'Park,', '24,', 'who', 'wanted', 'to', 'be', 'identified', 'in', 'this', 'article', 'by', 'a', 'pseudonym*,', 'also', 'decided', 'to', 'avoid', 'the', 'TV', 'sensation', 'out', 'of', 'protest.', 'Ordinarily,', 'she', 'loves', 'watching', 'Netflix,', 'always', 'looking', 'forward', 'to', 'the', 'latest', 'release,', 'but', 'Squid', 'Game', 'is', 'one', 'show', 'she', 'says', 'she', 'could', 'not', 'support', 'after', 'reading', 'a', 'critical', 'review', 'accusing', 'it', 'of', 'misogyny.']\n"
     ]
    }
   ],
   "source": [
    "file = open(\"C:\\data.txt\", \"rt\")\n",
    "data = file.read()\n",
    "words = data.split()\n",
    "print(words)"
   ]
  },
  {
   "cell_type": "code",
   "execution_count": 8,
   "id": "68ff1045",
   "metadata": {},
   "outputs": [
    {
     "name": "stdout",
     "output_type": "stream",
     "text": [
      "lines: 8 words: 101 characters: 586\n"
     ]
    }
   ],
   "source": [
    "file = open(\"C:\\data.txt\", \"r\")\n",
    "number_of_lines = 0\n",
    "number_of_words = 0\n",
    "number_of_characters = 0\n",
    "for line in file:\n",
    "    line = line.strip(\"\\n\")\n",
    "    words = line.split()\n",
    "    number_of_lines += 1\n",
    "    number_of_words += len(words)\n",
    "    number_of_characters += len(line)\n",
    "\n",
    "file.close()\n",
    "\n",
    "print(\"lines:\", number_of_lines, \"words:\", number_of_words, \"characters:\", number_of_characters)"
   ]
  },
  {
   "cell_type": "code",
   "execution_count": 11,
   "id": "894cf34e",
   "metadata": {},
   "outputs": [
    {
     "name": "stdout",
     "output_type": "stream",
     "text": [
      "cheongju, : 1\n",
      "south : 1\n",
      "korea : 1\n",
      "â€“ : 1\n",
      "it : 3\n",
      "was : 1\n",
      "about : 1\n",
      "halfway : 1\n",
      "through : 1\n",
      "the : 5\n",
      "hit : 1\n",
      "netflix : 1\n",
      "series : 1\n",
      "squid : 2\n",
      "game : 2\n",
      "that : 1\n",
      "ye-eun : 1\n",
      "lee : 1\n",
      "had : 2\n",
      "enough. : 1\n",
      "disgusted : 1\n",
      "by : 2\n",
      "showâ€™s : 1\n",
      "portrayal : 1\n",
      "of : 3\n",
      "women, : 1\n",
      "which : 1\n",
      "she : 5\n",
      "considers : 1\n",
      "to : 5\n",
      "be : 2\n",
      "misogynistic, : 1\n",
      "turned : 1\n",
      "off : 1\n",
      "and : 1\n",
      "refused : 1\n",
      "watch : 1\n",
      "rest. : 1\n",
      " : 1\n",
      "jane : 1\n",
      "park, : 1\n",
      "24, : 1\n",
      "who : 1\n",
      "wanted : 1\n",
      "identified : 1\n",
      "in : 1\n",
      "this : 1\n",
      "article : 1\n",
      "a : 2\n",
      "pseudonym*, : 1\n",
      "also : 1\n",
      "decided : 1\n",
      "avoid : 1\n",
      "tv : 1\n",
      "sensation : 1\n",
      "out : 1\n",
      "protest. : 1\n",
      "ordinarily, : 1\n",
      "loves : 1\n",
      "watching : 1\n",
      "netflix, : 1\n",
      "always : 1\n",
      "looking : 1\n",
      "forward : 1\n",
      "latest : 1\n",
      "release, : 1\n",
      "but : 1\n",
      "is : 1\n",
      "one : 1\n",
      "show : 1\n",
      "says : 1\n",
      "could : 1\n",
      "not : 1\n",
      "support : 1\n",
      "after : 1\n",
      "reading : 1\n",
      "critical : 1\n",
      "review : 1\n",
      "accusing : 1\n",
      "misogyny. : 1\n"
     ]
    }
   ],
   "source": [
    "text = open(\"C:\\data.txt\", \"r\")\n",
    "  \n",
    "# Create an empty dictionary\n",
    "d = dict()\n",
    "  \n",
    "# Loop through each line of the file\n",
    "for line in text:\n",
    "    # Remove the leading spaces and newline character\n",
    "    line = line.strip()\n",
    "  \n",
    "    # Convert the characters in line to \n",
    "    # lowercase to avoid case mismatch\n",
    "    line = line.lower()\n",
    "  \n",
    "    # Split the line into words\n",
    "    words = line.split(\" \")\n",
    "  \n",
    "    # Iterate over each word in line\n",
    "    for word in words:\n",
    "        # Check if the word is already in dictionary\n",
    "        if word in d:\n",
    "            # Increment count of word by 1\n",
    "            d[word] = d[word] + 1\n",
    "        else:\n",
    "            # Add the word to dictionary with count 1\n",
    "            d[word] = 1\n",
    "file.close()  \n",
    "# Print the contents of dictionary\n",
    "for key in list(d.keys()):\n",
    "    print(key, \":\", d[key])\n",
    "    "
   ]
  },
  {
   "cell_type": "code",
   "execution_count": 15,
   "id": "501a3a43",
   "metadata": {},
   "outputs": [
    {
     "name": "stdout",
     "output_type": "stream",
     "text": [
      "Counter({' ': 99,\n",
      "         'E': 52,\n",
      "         'T': 44,\n",
      "         'O': 38,\n",
      "         'S': 38,\n",
      "         'A': 35,\n",
      "         'I': 35,\n",
      "         'H': 28,\n",
      "         'N': 25,\n",
      "         'R': 22,\n",
      "         'D': 22,\n",
      "         'U': 17,\n",
      "         'L': 15,\n",
      "         'C': 13,\n",
      "         'W': 13,\n",
      "         'G': 12,\n",
      "         'F': 12,\n",
      "         'Y': 12,\n",
      "         ',': 9,\n",
      "         '\\n': 7,\n",
      "         'B': 6,\n",
      "         'M': 6,\n",
      "         'P': 6,\n",
      "         '.': 4,\n",
      "         'V': 4,\n",
      "         'K': 3,\n",
      "         'J': 2,\n",
      "         'Â': 2,\n",
      "         '€': 2,\n",
      "         'X': 2,\n",
      "         'Q': 2,\n",
      "         '“': 1,\n",
      "         '-': 1,\n",
      "         '™': 1,\n",
      "         '2': 1,\n",
      "         '4': 1,\n",
      "         '*': 1})\n"
     ]
    }
   ],
   "source": [
    "import collections\n",
    "import pprint\n",
    "text = open(\"C:\\data.txt\", \"r\")\n",
    "#file_input = input('C:\\data.txt')\n",
    "count = collections.Counter(text.read().upper())\n",
    "value = pprint.pformat(count)\n",
    "print(value)"
   ]
  },
  {
   "cell_type": "code",
   "execution_count": 16,
   "id": "d28aa514",
   "metadata": {},
   "outputs": [
    {
     "name": "stdout",
     "output_type": "stream",
     "text": [
      "Counter({' ': 99,\n",
      "         'e': 52,\n",
      "         't': 43,\n",
      "         'o': 37,\n",
      "         'a': 35,\n",
      "         's': 35,\n",
      "         'i': 34,\n",
      "         'h': 28,\n",
      "         'n': 23,\n",
      "         'r': 22,\n",
      "         'd': 21,\n",
      "         'u': 17,\n",
      "         'l': 14,\n",
      "         'w': 13,\n",
      "         'f': 12,\n",
      "         'c': 12,\n",
      "         'y': 11,\n",
      "         'g': 10,\n",
      "         ',': 9,\n",
      "         '\\n': 7,\n",
      "         'b': 6,\n",
      "         'm': 6,\n",
      "         'p': 5,\n",
      "         '.': 4,\n",
      "         'S': 3,\n",
      "         'v': 3,\n",
      "         'â': 2,\n",
      "         '€': 2,\n",
      "         'N': 2,\n",
      "         'x': 2,\n",
      "         'q': 2,\n",
      "         'G': 2,\n",
      "         'k': 2,\n",
      "         'C': 1,\n",
      "         'j': 1,\n",
      "         'K': 1,\n",
      "         '“': 1,\n",
      "         'I': 1,\n",
      "         'Y': 1,\n",
      "         '-': 1,\n",
      "         'L': 1,\n",
      "         'D': 1,\n",
      "         '™': 1,\n",
      "         'J': 1,\n",
      "         'P': 1,\n",
      "         '2': 1,\n",
      "         '4': 1,\n",
      "         '*': 1,\n",
      "         'T': 1,\n",
      "         'V': 1,\n",
      "         'O': 1})\n"
     ]
    }
   ],
   "source": [
    "import collections\n",
    "import pprint\n",
    "text = open(\"C:\\data.txt\", \"r\")\n",
    "#file_input = input('C:\\data.txt')\n",
    "count = collections.Counter(text.read())\n",
    "value = pprint.pformat(count)\n",
    "print(value)"
   ]
  },
  {
   "cell_type": "code",
   "execution_count": 2,
   "id": "70c9269f",
   "metadata": {},
   "outputs": [
    {
     "name": "stdout",
     "output_type": "stream",
     "text": [
      "<class 'int'>\n",
      "Number of 2 char : 19\n"
     ]
    }
   ],
   "source": [
    "file = open(\"C:\\data.txt\", \"rt\")\n",
    "data = file.read()\n",
    "words = data.split()\n",
    "count=0\n",
    "d=dict(enumerate(words))\n",
    "count = 0\n",
    "key = 0\n",
    "while  key < len(d) :\n",
    "    if  len(d[key]) == 2 :\n",
    "        count +=1\n",
    "        #print(d[key])\n",
    "    key=key+1\n",
    "\n",
    "print(\"Number of 2 char :\",count)\n"
   ]
  },
  {
   "cell_type": "code",
   "execution_count": 3,
   "id": "25552084",
   "metadata": {},
   "outputs": [
    {
     "name": "stdout",
     "output_type": "stream",
     "text": [
      "Counter({',': 7, 'the': 5, 'she': 5, 'to': 5, '.': 4, 'of': 3, 'Netflix': 2, 'Squid': 2, 'Game': 2, 'had': 2, 'by': 2, 'be': 2, 'it': 2, 'a': 2, 'Cheongju': 1, 'South': 1, 'Korea': 1, 'â€“': 1, 'It': 1, 'was': 1, 'about': 1, 'halfway': 1, 'through': 1, 'hit': 1, 'series': 1, 'that': 1, 'Ye-eun': 1, 'Lee': 1, 'enough': 1, 'Disgusted': 1, 'showâ€™s': 1, 'portrayal': 1, 'women,': 1, 'which': 1, 'considers': 1, 'misogynistic': 1, 'turned': 1, 'off': 1, 'and': 1, 'refused': 1, 'watch': 1, 'rest': 1, 'Jane': 1, 'Park': 1, '24': 1, 'who': 1, 'wanted': 1, 'identified': 1, 'in': 1, 'this': 1, 'article': 1, 'pseudonym*': 1, 'also': 1, 'decided': 1, 'avoid': 1, 'TV': 1, 'sensation': 1, 'out': 1, 'protest': 1, 'Ordinarily,': 1, 'loves': 1, 'watching': 1, 'always': 1, 'looking': 1, 'forward': 1, 'latest': 1, 'release': 1, 'but': 1, 'is': 1, 'one': 1, 'show': 1, 'says': 1, 'could': 1, 'not': 1, 'support': 1, 'after': 1, 'reading': 1, 'critical': 1, 'review': 1, 'accusing': 1, 'misogyny': 1})\n"
     ]
    },
    {
     "data": {
      "image/png": "[encoded data removed]",
      "text/plain": [
       "<Figure size 432x288 with 1 Axes>"
      ]
     },
     "metadata": {
      "needs_background": "light"
     },
     "output_type": "display_data"
    }
   ],
   "source": [
    "from collections import Counter\n",
    "import matplotlib.pyplot as plt\n",
    "file = open(\"C:\\data.txt\", \"rt\")\n",
    "data = file.read()\n",
    "words = data.split()\n",
    "d=dict(enumerate(words))\n",
    "count = 0\n",
    "key = 0\n",
    "res = Counter(d.values())\n",
    "print(res)\n",
    "\n",
    "myList =d.items()\n",
    "myList = sorted(myList) \n",
    "x, y = zip(*myList) \n",
    "\n",
    "plt.bar(x, y)\n",
    "plt.show()\n"
   ]
  },
  {
   "cell_type": "code",
   "execution_count": 2,
   "id": "fe166f01",
   "metadata": {},
   "outputs": [
    {
     "name": "stdout",
     "output_type": "stream",
     "text": [
      "Counter({',': 7, 'the': 5, 'she': 5, 'to': 5, '.': 4, 'of': 3, 'Netflix': 2, 'Squid': 2, 'Game': 2, 'had': 2, 'by': 2, 'be': 2, 'it': 2, 'a': 2, 'Cheongju': 1, 'South': 1, 'Korea': 1, 'â€“': 1, 'It': 1, 'was': 1, 'about': 1, 'halfway': 1, 'through': 1, 'hit': 1, 'series': 1, 'that': 1, 'Ye-eun': 1, 'Lee': 1, 'enough': 1, 'Disgusted': 1, 'showâ€™s': 1, 'portrayal': 1, 'women,': 1, 'which': 1, 'considers': 1, 'misogynistic': 1, 'turned': 1, 'off': 1, 'and': 1, 'refused': 1, 'watch': 1, 'rest': 1, 'Jane': 1, 'Park': 1, '24': 1, 'who': 1, 'wanted': 1, 'identified': 1, 'in': 1, 'this': 1, 'article': 1, 'pseudonym*': 1, 'also': 1, 'decided': 1, 'avoid': 1, 'TV': 1, 'sensation': 1, 'out': 1, 'protest': 1, 'Ordinarily,': 1, 'loves': 1, 'watching': 1, 'always': 1, 'looking': 1, 'forward': 1, 'latest': 1, 'release': 1, 'but': 1, 'is': 1, 'one': 1, 'show': 1, 'says': 1, 'could': 1, 'not': 1, 'support': 1, 'after': 1, 'reading': 1, 'critical': 1, 'review': 1, 'accusing': 1, 'misogyny': 1})\n"
     ]
    }
   ],
   "source": [
    "from collections import Counter\n",
    "import matplotlib.pyplot as plt\n",
    "file = open(\"C:\\data.txt\", \"rt\")\n",
    "data = file.read()\n",
    "words = data.split()\n",
    "d=dict(enumerate(words))\n",
    "count = 0\n",
    "key = 0\n",
    "res = Counter(d.values())\n",
    "print(res)\n"
   ]
  },
  {
   "cell_type": "code",
   "execution_count": null,
   "id": "76cf898d",
   "metadata": {},
   "outputs": [],
   "source": []
  }
 ],
 "metadata": {
  "kernelspec": {
   "display_name": "Python 3",
   "language": "python",
   "name": "python3"
  },
  "language_info": {
   "codemirror_mode": {
    "name": "ipython",
    "version": 3
   },
   "file_extension": ".py",
   "mimetype": "text/x-python",
   "name": "python",
   "nbconvert_exporter": "python",
   "pygments_lexer": "ipython3",
   "version": "3.8.5"
  }
 },
 "nbformat": 4,
 "nbformat_minor": 5
}
